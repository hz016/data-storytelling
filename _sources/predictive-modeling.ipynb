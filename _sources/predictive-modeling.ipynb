{
 "cells": [
  {
   "cell_type": "markdown",
   "metadata": {},
   "source": [
    "## Predictive Modeling"
   ]
  },
  {
   "cell_type": "code",
   "execution_count": null,
   "metadata": {},
   "outputs": [],
   "source": [
    "m = Prophet(interval_width=0.95,changepoint_prior_scale=0.01,seasonality_mode='multiplicative',daily_seasonality=False,weekly_seasonality=True,yearly_seasonality=True,changepoint_range=0.6)\n",
    "m.fit(cases_prophet)\n",
    "# Die nächsten 90 Tage werden vorhergesagt\n",
    "future = m.make_future_dataframe(periods=360)\n",
    "forecast = m.predict(future)\n",
    "# Der ursprüngliche y-Wert wird dem Datensatz hinzugefügt.\n",
    "forecast['y'] = cases_prophet['y']\n",
    "\n",
    "# Der Forecast wird in einem separaten Datensatz abgespeichert. Es werden nur Zeilen betrachtet, die in der Zukunft liegen und daher keinen y-Wert haben.\n",
    "pred = forecast[forecast.y.isna()]\n",
    "pred[['ds','y','yhat']].describe()"
   ]
  },
  {
   "cell_type": "markdown",
   "metadata": {},
   "source": [
    "Sollte der Forecast negative Fallzahlen vorhersagen, dann werden diese mit einer 0 versehen.\n",
    "Die Spalte 'yhat' sind die vorhergesagten Fallzahlen. yhat_lower und yhat_upper stellen das Konfidenzintervall dar. "
   ]
  },
  {
   "cell_type": "code",
   "execution_count": 106,
   "metadata": {},
   "outputs": [],
   "source": [
    "pred.loc[pred['yhat'] < 0, 'yhat'] = 0\n",
    "pred.loc[pred['yhat_lower'] < 0, 'yhat_lower'] = 0\n",
    "pred.loc[pred['yhat_upper'] < 0, 'yhat_upper'] = 0"
   ]
  }
 ],
 "metadata": {
  "kernelspec": {
   "display_name": "Python 3",
   "language": "python",
   "name": "python3"
  },
  "language_info": {
   "codemirror_mode": {
    "name": "ipython",
    "version": 3
   },
   "file_extension": ".py",
   "mimetype": "text/x-python",
   "name": "python",
   "nbconvert_exporter": "python",
   "pygments_lexer": "ipython3",
   "version": "3.8.11"
  },
  "widgets": {
   "application/vnd.jupyter.widget-state+json": {
    "state": {},
    "version_major": 2,
    "version_minor": 0
   }
  }
 },
 "nbformat": 4,
 "nbformat_minor": 4
}
